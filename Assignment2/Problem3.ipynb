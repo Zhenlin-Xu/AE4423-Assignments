{
 "cells": [
  {
   "cell_type": "code",
   "execution_count": 2,
   "id": "12bf4327-bf75-419f-aa88-48bd3fc034de",
   "metadata": {},
   "outputs": [],
   "source": [
    "import numpy as np\n",
    "import pandas as pd\n",
    "import matplotlib.pyplot as plt\n",
    "import gurobipy as gp\n",
    "from ordered_set import OrderedSet"
   ]
  },
  {
   "cell_type": "markdown",
   "id": "80b712cc-8c30-4e4e-acf3-45a06cd98af8",
   "metadata": {
    "tags": []
   },
   "source": [
    "## Load the data"
   ]
  },
  {
   "cell_type": "code",
   "execution_count": 3,
   "id": "fd5647ca-e2eb-41b3-8026-534a565e7f1e",
   "metadata": {},
   "outputs": [
    {
     "data": {
      "text/plain": [
       "((232, 10),\n",
       " Index(['Flight Number', 'ORG', 'DEST', 'Departure', 'Arrival', 'A330', 'A340',\n",
       "        'B737', 'B738', 'BUS'],\n",
       "       dtype='object'))"
      ]
     },
     "execution_count": 3,
     "metadata": {},
     "output_type": "execute_result"
    }
   ],
   "source": [
    "data_path = './Group_Data/Group_7.xlsx'\n",
    "flight_data = pd.read_excel(data_path, sheet_name='Flight', parse_dates=['Departure', 'Arrival'])\n",
    "num_flight = flight_data.shape[0]\n",
    "flight_data.shape, flight_data.columns"
   ]
  },
  {
   "cell_type": "code",
   "execution_count": 4,
   "id": "612c40c5-06c2-4023-988a-137bd29a7efb",
   "metadata": {},
   "outputs": [
    {
     "data": {
      "text/plain": [
       "((780, 8),\n",
       " Index(['Itin No.', 'Origin', 'Destination', 'Demand', 'Fare', 'Stops', 'Leg 1',\n",
       "        'Leg 2'],\n",
       "       dtype='object'))"
      ]
     },
     "execution_count": 4,
     "metadata": {},
     "output_type": "execute_result"
    }
   ],
   "source": [
    "itinerary_data = pd.read_excel(data_path, sheet_name='Itinerary')\n",
    "num_itinerary = itinerary_data.shape[0]\n",
    "itinerary_data.shape, itinerary_data.columns"
   ]
  },
  {
   "cell_type": "code",
   "execution_count": 5,
   "id": "d02899b7-d1f7-4024-a77e-90b9431effe7",
   "metadata": {},
   "outputs": [
    {
     "data": {
      "text/plain": [
       "((327, 3),\n",
       " Index(['From Itinerary', 'To Itinerary', 'Recapture Rate'], dtype='object'))"
      ]
     },
     "execution_count": 5,
     "metadata": {},
     "output_type": "execute_result"
    }
   ],
   "source": [
    "recaptureRate_data = pd.read_excel(data_path, sheet_name='Recapture Rate')\n",
    "num_recaptureRate = recaptureRate_data.shape[0]\n",
    "recaptureRate_data.shape, recaptureRate_data.columns"
   ]
  },
  {
   "cell_type": "code",
   "execution_count": 6,
   "id": "fca2dfff-d7b4-426d-81e7-2d1dc6e9e911",
   "metadata": {},
   "outputs": [
    {
     "data": {
      "text/plain": [
       "((5, 4), Index(['Type', 'Units', 'Seats', 'TAT'], dtype='object'))"
      ]
     },
     "execution_count": 6,
     "metadata": {},
     "output_type": "execute_result"
    }
   ],
   "source": [
    "aircraft_data = pd.read_excel(data_path, sheet_name='Aircraft')\n",
    "num_ac_type = aircraft_data.shape[0] - 1\n",
    "num_type = aircraft_data.shape[0]\n",
    "aircraft_data.shape, aircraft_data.columns"
   ]
  },
  {
   "cell_type": "markdown",
   "id": "19aea3ba-6de2-44d2-9cd3-719fed760ae5",
   "metadata": {
    "tags": []
   },
   "source": [
    "## Preprocess the data into Python objects"
   ]
  },
  {
   "cell_type": "markdown",
   "id": "29ac4636-7c4b-42c6-992c-9215a51a784f",
   "metadata": {
    "tags": []
   },
   "source": [
    "### Create `Flight` objects"
   ]
  },
  {
   "cell_type": "code",
   "execution_count": 12,
   "id": "1277062c-ff69-40a5-96b3-0783517dec6f",
   "metadata": {},
   "outputs": [],
   "source": [
    "# define the class of Flight\n",
    "class Flight:\n",
    "    '''\n",
    "    Define the class of flight:\n",
    "    refers to your airline’s daily flight schedule, which\n",
    "    contains, for each flight in the schedule, the flight number, the\n",
    "    departure and arrival times, and operating costs for each aircraft\n",
    "    type (in €).\n",
    "    '''\n",
    "    def __init__(self, \n",
    "        flight_number: str,\n",
    "        origin: str,\n",
    "        destin: str,\n",
    "        departureTime, # datetime\n",
    "        arrivalTime,   # datetime\n",
    "        costs: dict\n",
    "        ):\n",
    "        self.flight_number = flight_number\n",
    "        self.origin = origin\n",
    "        self.destin = destin\n",
    "        self.departureTime = departureTime\n",
    "        self.arrivalTime = arrivalTime\n",
    "        self.costs = costs\n",
    "        \n",
    "    def __repr__(self,):\n",
    "        return self.flight_number + ':' + self.origin + '->' + self.destin\n",
    "    \n",
    "    def __str__(self,):\n",
    "        return self.__repr__()\n",
    "    \n",
    "# construct the set of flights\n",
    "flightSet = []\n",
    "for flight in range(num_flight):\n",
    "    flight_number = flight_data['Flight Number'][flight]\n",
    "    origin = flight_data['ORG'][flight]\n",
    "    destin = flight_data['DEST'][flight]\n",
    "    departureTime = flight_data['Departure'][flight]\n",
    "    arrivalTime = flight_data['Arrival'][flight]\n",
    "    costs = {\n",
    "            'A330':  flight_data['A330'][flight],\n",
    "            'A340':  flight_data['A340'][flight],\n",
    "            'B737':  flight_data['B737'][flight],\n",
    "            'B738':  flight_data['B738'][flight],\n",
    "            'BUS':  flight_data['BUS'][flight],\n",
    "        }\n",
    "    \n",
    "    flightSet.append(\n",
    "        Flight(\n",
    "            flight_number = flight_number,\n",
    "            origin = origin,\n",
    "            destin = destin,\n",
    "            departureTime = departureTime,\n",
    "            arrivalTime = arrivalTime,\n",
    "            costs = costs,\n",
    "        )\n",
    "    )\n",
    "assert len(flightSet) == num_flight"
   ]
  },
  {
   "cell_type": "markdown",
   "id": "c2313b61-44a0-4fac-a541-d51d7716450c",
   "metadata": {
    "tags": []
   },
   "source": [
    "### Create `Itinerary` objects"
   ]
  },
  {
   "cell_type": "code",
   "execution_count": 13,
   "id": "20bb5aa2-5c61-4663-be18-4c45dd506afd",
   "metadata": {},
   "outputs": [],
   "source": [
    "# define the class of Itinerary\n",
    "class Itinerary:\n",
    "    '''\n",
    "    Define the class of itinerary:\n",
    "    passenger itineraries, indicating the origin and destination, the demand and the fare (in\n",
    "    €) for each itinerary. In addition, the flight or pair of flights used in each itinerary is provided\n",
    "    '''\n",
    "    def __init__(\n",
    "        self,\n",
    "        no: int,\n",
    "        origin: str,\n",
    "        destin: str,\n",
    "        demand: int,\n",
    "        fare: int,\n",
    "        num_stops: int,\n",
    "        leg1,\n",
    "        leg2,\n",
    "    ):\n",
    "        self.no = no,\n",
    "        self.origin = origin,\n",
    "        self.destin = destin,\n",
    "        self.demand = demand,\n",
    "        self.fare = fare,\n",
    "        self.num_stops = num_stops,\n",
    "        self.leg1 = leg1,\n",
    "        self.leg2 = leg2\n",
    "\n",
    "# construct the set of itineraries\n",
    "itinerarySet = []\n",
    "for itinerary in range(num_itinerary):\n",
    "    no = itinerary_data['Itin No.'][itinerary]\n",
    "    origin = itinerary_data['Origin'][itinerary]\n",
    "    destin = itinerary_data['Destination'][itinerary]\n",
    "    demand = itinerary_data['Demand'][itinerary]\n",
    "    fare = itinerary_data['Fare'][itinerary]\n",
    "    num_stops = itinerary_data['Stops'][itinerary]\n",
    "    leg1 = itinerary_data['Leg 1'][itinerary]\n",
    "    leg2 = itinerary_data['Leg 2'][itinerary]\n",
    "    \n",
    "    itinerarySet.append(\n",
    "        Itinerary(\n",
    "            no=no,\n",
    "            origin=origin,\n",
    "            destin=destin,\n",
    "            demand=demand,\n",
    "            fare=fare,\n",
    "            num_stops=num_stops,\n",
    "            leg1=leg1,\n",
    "            leg2=None if leg2 == 0 else leg2\n",
    "        )\n",
    "    )\n",
    "\n",
    "# append the fictitious itinerary\n",
    "itinerarySet.append(\n",
    "    Itinerary(\n",
    "        no = -1,\n",
    "        origin=None,\n",
    "        destin=None,\n",
    "        demand=0,\n",
    "        fare=0,\n",
    "        num_stops=0,\n",
    "        leg1=None,\n",
    "        leg2=None\n",
    "    )\n",
    ")\n",
    "    \n",
    "assert len(itinerarySet) == num_itinerary + 1"
   ]
  },
  {
   "cell_type": "markdown",
   "id": "e8f57d66-9815-448c-a5e2-c3711467f273",
   "metadata": {
    "tags": []
   },
   "source": [
    "### Create `Recapture Rate` set "
   ]
  },
  {
   "cell_type": "code",
   "execution_count": 14,
   "id": "0e64e4ce-889a-42ac-a6ae-cfc0c7622247",
   "metadata": {},
   "outputs": [],
   "source": [
    "# construct the mappings between itinerary<From, To> and recapture rate\n",
    "recaptureRateSet = {}\n",
    "\n",
    "for idx in range(num_recaptureRate):\n",
    "    # loop through all the recapture rates\n",
    "    fromIti = recaptureRate_data['From Itinerary'].iloc[idx]\n",
    "    toIti = recaptureRate_data['To Itinerary'].iloc[idx]\n",
    "    recaptureRateSet[fromIti, toIti] = recaptureRate_data['Recapture Rate'].iloc[idx]\n",
    "\n",
    "assert len(recaptureRateSet) == num_recaptureRate"
   ]
  },
  {
   "cell_type": "markdown",
   "id": "db94cf4f-a6a0-4994-b5a9-97d544b542ff",
   "metadata": {
    "tags": []
   },
   "source": [
    "### Read `aircraft` parameters"
   ]
  },
  {
   "cell_type": "code",
   "execution_count": 15,
   "id": "b4d53558-a7f6-4e06-b6da-4678e23e7d4b",
   "metadata": {},
   "outputs": [],
   "source": [
    "# retrieve the infos about aircraft types, units, seats and TATs\n",
    "aircraftNames = ['A330', 'A340', 'B737', 'B738', 'BUS']\n",
    "units = aircraft_data['Units']\n",
    "seats = aircraft_data['Seats']\n",
    "TATs = aircraft_data['TAT']"
   ]
  },
  {
   "cell_type": "markdown",
   "id": "a340a190-0128-450f-a56f-ba1a026e4083",
   "metadata": {
    "tags": []
   },
   "source": [
    "### Create `Node` objects"
   ]
  },
  {
   "cell_type": "code",
   "execution_count": 42,
   "id": "f0390756-114e-4e04-aaff-5b3448e89c48",
   "metadata": {},
   "outputs": [
    {
     "data": {
      "text/plain": [
       "422"
      ]
     },
     "execution_count": 42,
     "metadata": {},
     "output_type": "execute_result"
    }
   ],
   "source": [
    "class Node:\n",
    "    '''\n",
    "    Based on the time-space network, \n",
    "    a node is the position that aircraft departs or arrives at airport i in the time t.\n",
    "    '''\n",
    "    def __init__(\n",
    "        self,\n",
    "        airport,\n",
    "        timestamp,\n",
    "    ):\n",
    "        self.airport = airport\n",
    "        self.timestamp = timestamp\n",
    "        self.num_airports_in = 1\n",
    "        self.num_airports_out = 1\n",
    "        \n",
    "    def __repr__(self):\n",
    "        return self.airport+str(self.timestamp)\n",
    "    \n",
    "    def __str__(self):\n",
    "        return self.__repr__()\n",
    "\n",
    "    def __key(self):\n",
    "        return (self.airport, self.timestamp)\n",
    "\n",
    "    def __hash__(self):\n",
    "        return hash(self.__key())\n",
    "\n",
    "    def __eq__(self, other):\n",
    "        if isinstance(other, Node):\n",
    "            return self.__key() == other.__key()\n",
    "        return NotImplemented        \n",
    "        \n",
    "nodeSet = OrderedSet()\n",
    "for flight in flightSet:\n",
    "    # create the node where an flight departs\n",
    "    node = Node(airport=flight.origin, timestamp=flight.departureTime)\n",
    "    if node not in nodeSet:\n",
    "        nodeSet.add(node)\n",
    "    else:\n",
    "        loc = nodeSet.get_loc(node)\n",
    "        nodeSet[loc].num_airports_out += 1\n",
    "    # create the node where an flight arrives\n",
    "    node = Node(airport=flight.destin, timestamp=flight.arrivalTime)\n",
    "    if node not in nodeSet:\n",
    "        nodeSet.add(node)\n",
    "    else:\n",
    "        loc = nodeSet.get_loc(node)\n",
    "        nodeSet[loc].num_airports_in += 1\n",
    "len(nodeSet)"
   ]
  },
  {
   "cell_type": "markdown",
   "id": "7cf42239-2378-492d-bed6-67a31f2f2363",
   "metadata": {
    "tags": []
   },
   "source": [
    "### Create `Ground` objects"
   ]
  },
  {
   "cell_type": "code",
   "execution_count": null,
   "id": "f5ec52ab-7590-4ed7-86cd-f174944c2145",
   "metadata": {},
   "outputs": [],
   "source": []
  },
  {
   "cell_type": "markdown",
   "id": "40ad92ee-56a3-4921-ac75-1d5d41280297",
   "metadata": {},
   "source": [
    "## Column Generation Algorithm (CG)"
   ]
  },
  {
   "cell_type": "markdown",
   "id": "b0acf440-3413-4c68-901f-598db1249219",
   "metadata": {},
   "source": [
    "### Solve the initial RMP"
   ]
  },
  {
   "cell_type": "markdown",
   "id": "9dbc7cf5-3fd0-46df-8ac4-ed5a63614326",
   "metadata": {},
   "source": [
    "#### Decision variables"
   ]
  },
  {
   "cell_type": "code",
   "execution_count": 26,
   "id": "d58647a5-ccf2-448d-abec-316c6aff8be4",
   "metadata": {},
   "outputs": [],
   "source": [
    "# In the initial RMP, a 'fictitious' itinerary is considered as the buffer for spillage.\n",
    "\n",
    "model = gp.Model('RMP')\n",
    "\n",
    "# declare the decision variables\n",
    "# f_i^k: binary variable if flight arc i is assigned to aircraft type k, otherwise 0 \n",
    "# (assumed continous in RMF setting)\n",
    "f = model.addVars(num_flight, num_ac_type,)\n",
    "assert len(f) == num_flight * num_ac_type\n",
    "# y_a^k: integer variable indicating the number of aircrafts of type k on the ground arc a \n",
    "# (assumed continous in RMF setting)\n",
    "# y = model.addVars(\n",
    "#     \n",
    "# )\n",
    "\n",
    "# t_p^r: the number of passengers that would like to travel on itinerary p but are reallocated by the airline to itinerary r\n",
    "num_initial = num_itinerary\n",
    "\n",
    "t = model.addVars(num_initial,1)\n",
    "assert len(t) == num_initial"
   ]
  },
  {
   "cell_type": "markdown",
   "id": "03dc8697-e289-4c96-991b-9b91470942d5",
   "metadata": {},
   "source": [
    "### Solve the relaxed IFAM problem"
   ]
  },
  {
   "cell_type": "markdown",
   "id": "3d0b6db5-9456-42ef-9381-eb2a3f4169b6",
   "metadata": {},
   "source": [
    "### Solve the relaxed IFAM problem with integer DVs"
   ]
  },
  {
   "cell_type": "code",
   "execution_count": null,
   "id": "f8257166-9680-46ce-95be-7b042ccbf7e3",
   "metadata": {},
   "outputs": [],
   "source": []
  },
  {
   "cell_type": "code",
   "execution_count": null,
   "id": "bc40ccb9-fc18-4405-9529-02de42d4cf2e",
   "metadata": {},
   "outputs": [],
   "source": []
  },
  {
   "cell_type": "code",
   "execution_count": null,
   "id": "c06d786b-e64e-4153-8a80-4737065663f3",
   "metadata": {},
   "outputs": [],
   "source": []
  }
 ],
 "metadata": {
  "kernelspec": {
   "display_name": "Python 3 (ipykernel)",
   "language": "python",
   "name": "python3"
  },
  "language_info": {
   "codemirror_mode": {
    "name": "ipython",
    "version": 3
   },
   "file_extension": ".py",
   "mimetype": "text/x-python",
   "name": "python",
   "nbconvert_exporter": "python",
   "pygments_lexer": "ipython3",
   "version": "3.9.13"
  }
 },
 "nbformat": 4,
 "nbformat_minor": 5
}
